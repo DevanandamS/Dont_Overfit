{
 "cells": [
  {
   "cell_type": "code",
   "execution_count": 3,
   "metadata": {},
   "outputs": [
    {
     "name": "stdout",
     "output_type": "stream",
     "text": [
      "Collecting sklearn\n",
      "  Using cached https://files.pythonhosted.org/packages/1e/7a/dbb3be0ce9bd5c8b7e3d87328e79063f8b263b2b1bfa4774cb1147bfcd3f/sklearn-0.0.tar.gz\n",
      "Requirement already satisfied: numpy in /usr/lib/python3.7/site-packages (1.16.2)\n",
      "Requirement already satisfied: pandas in /home/jonathan.sadighian/.local/lib/python3.7/site-packages (0.24.2)\n",
      "Collecting matplotlib\n",
      "  Using cached https://files.pythonhosted.org/packages/83/2a/e47bbd9396af32376863a426baed62d9bf3091f81defd1fe81c5f33b11a3/matplotlib-3.0.3-cp37-cp37m-manylinux1_x86_64.whl\n",
      "Collecting scikit-learn (from sklearn)\n",
      "  Using cached https://files.pythonhosted.org/packages/aa/cc/a84e1748a2a70d0f3e081f56cefc634f3b57013b16faa6926d3a6f0598df/scikit_learn-0.20.3-cp37-cp37m-manylinux1_x86_64.whl\n",
      "Requirement already satisfied: pytz>=2011k in /home/jonathan.sadighian/.local/lib/python3.7/site-packages (from pandas) (2019.1)\n",
      "Requirement already satisfied: python-dateutil>=2.5.0 in /home/jonathan.sadighian/.local/lib/python3.7/site-packages (from pandas) (2.8.0)\n",
      "Collecting cycler>=0.10 (from matplotlib)\n",
      "  Using cached https://files.pythonhosted.org/packages/f7/d2/e07d3ebb2bd7af696440ce7e754c59dd546ffe1bbe732c8ab68b9c834e61/cycler-0.10.0-py2.py3-none-any.whl\n",
      "Collecting kiwisolver>=1.0.1 (from matplotlib)\n",
      "  Using cached https://files.pythonhosted.org/packages/5c/7e/d6cae2f241ba474a2665f24b480bf4e247036d63939dda2bbc4d2ee5069d/kiwisolver-1.0.1-cp37-cp37m-manylinux1_x86_64.whl\n",
      "Requirement already satisfied: pyparsing!=2.0.4,!=2.1.2,!=2.1.6,>=2.0.1 in /usr/lib/python3.7/site-packages (from matplotlib) (2.3.1)\n",
      "Collecting scipy>=0.13.3 (from scikit-learn->sklearn)\n",
      "  Using cached https://files.pythonhosted.org/packages/3e/7e/5cee36eee5b3194687232f6150a89a38f784883c612db7f4da2ab190980d/scipy-1.2.1-cp37-cp37m-manylinux1_x86_64.whl\n",
      "Requirement already satisfied: six>=1.5 in /usr/lib/python3.7/site-packages (from python-dateutil>=2.5.0->pandas) (1.12.0)\n",
      "Requirement already satisfied: setuptools in /usr/lib/python3.7/site-packages (from kiwisolver>=1.0.1->matplotlib) (40.8.0)\n",
      "Installing collected packages: scipy, scikit-learn, sklearn, cycler, kiwisolver, matplotlib\n",
      "  Running setup.py install for sklearn ... \u001b[?25ldone\n",
      "\u001b[?25hSuccessfully installed cycler-0.10.0 kiwisolver-1.0.1 matplotlib-3.0.3 scikit-learn-0.20.3 scipy-1.2.1 sklearn-0.0\n",
      "1.13.1\n"
     ]
    }
   ],
   "source": [
    "!pip install --user sklearn numpy pandas matplotlib\n",
    "\n",
    "import numpy as np\n",
    "import pandas as pd\n",
    "import os\n",
    "from sklearn.preprocessing import MinMaxScaler, StandardScaler\n",
    "from sklearn.model_selection import train_test_split\n",
    "import matplotlib.pyplot as plt\n",
    "import tensorflow as tf\n",
    "print(tf.__version__)"
   ]
  },
  {
   "cell_type": "code",
   "execution_count": 4,
   "metadata": {},
   "outputs": [],
   "source": [
    "BATCH_SIZE = 20\n",
    "FEATURE_COUNT = 300\n",
    "INPUT_SHAPE = FEATURE_COUNT"
   ]
  },
  {
   "cell_type": "code",
   "execution_count": 11,
   "metadata": {},
   "outputs": [
    {
     "name": "stdout",
     "output_type": "stream",
     "text": [
      "Loading /afs/cri.epita.net/user/j/jo/jonathan.sadighian/u/thursday/train.csv into panda.\n",
      "Label #1.0 has 160 records\n",
      "Label #0.0 has 90 records\n",
      "Loading /afs/cri.epita.net/user/j/jo/jonathan.sadighian/u/thursday/test.csv into panda.\n"
     ]
    }
   ],
   "source": [
    "def get_data_training():    \n",
    "#     files = os.listdir(\"../input\")\n",
    "#     filename = \"../input/\"+files[-1]\n",
    "    filename = os.getcwd()+\"/train.csv\"\n",
    "    print('Loading {} into panda.'.format(filename))\n",
    "    training_df = pd.read_csv(filename)\n",
    "    \n",
    "    for val in training_df['target'].unique():\n",
    "        count = training_df.loc[training_df['target'] == val].shape[0]\n",
    "        print('Label #{} has {} records'.format(val, count))\n",
    "    \n",
    "    x_train = training_df.iloc[:,2:].values\n",
    "    y_train = training_df['target'].values\n",
    "    return x_train, y_train\n",
    "\n",
    "\n",
    "def get_data_testing():    \n",
    "#     files = os.listdir(\"../input\")\n",
    "#     filename = \"../input/\"+files[-1]\n",
    "    filename = os.getcwd()+\"/test.csv\"\n",
    "    print('Loading {} into panda.'.format(filename))\n",
    "    training_df = pd.read_csv(filename)\n",
    "\n",
    "    x_test = training_df.iloc[:,1:].values\n",
    "    return x_test\n",
    "\n",
    "\n",
    "x_train, y_train = get_data_training()\n",
    "x_test = get_data_testing()\n",
    "\n",
    "# scall all data - a look ahead because they didn't say we couldnt\n",
    "merged_x = np.concatenate((x_train, x_test))\n",
    "\n",
    "scaler = MinMaxScaler()\n",
    "# scaler = StandardScaler()\n",
    "\n",
    "scaler.fit(merged_x)\n",
    "# scaler.fit(x_train)\n",
    "\n",
    "x_train = scaler.transform(x_train)\n",
    "x_test = scaler.transform(x_test)"
   ]
  },
  {
   "cell_type": "code",
   "execution_count": 12,
   "metadata": {},
   "outputs": [
    {
     "name": "stdout",
     "output_type": "stream",
     "text": [
      "x_train.shape() = (250, 300)\n",
      "x_train.min() = 0.0\n",
      "x_train.max() = 1.0\n",
      "y_train.min() = 0.0\n",
      "y_train.max() = 1.0\n",
      "\n",
      "x_test.shape() = (19750, 300)\n",
      "x_test.min() = 0.0\n",
      "x_test.max() = 1.0000000000000002\n"
     ]
    }
   ],
   "source": [
    "print('x_train.shape() = {}'.format(x_train.shape))\n",
    "print('x_train.min() = {}'.format(x_train.min()))\n",
    "print('x_train.max() = {}'.format(x_train.max()))\n",
    "\n",
    "print('y_train.min() = {}'.format(y_train.min()))\n",
    "print('y_train.max() = {}'.format(y_train.max()))\n",
    "\n",
    "print()\n",
    "\n",
    "print('x_test.shape() = {}'.format(x_test.shape))\n",
    "print('x_test.min() = {}'.format(x_test.min()))\n",
    "print('x_test.max() = {}'.format(x_test.max()))"
   ]
  },
  {
   "cell_type": "code",
   "execution_count": 18,
   "metadata": {},
   "outputs": [],
   "source": [
    "# def create_model_binary():\n",
    "#     model = tf.keras.Sequential([\n",
    "#         tf.keras.layers.Dense(256, input_dim=INPUT_SHAPE, activation=tf.nn.relu),\n",
    "#         tf.keras.layers.Dense(128, activation=tf.nn.relu),\n",
    "#         tf.keras.layers.Dense(64, activation=tf.nn.relu),\n",
    "#         tf.keras.layers.Dense(32, activation=tf.nn.relu),\n",
    "#         tf.keras.layers.Dense(1, activation=tf.nn.sigmoid)\n",
    "#     ])\n",
    "#     model.compile(optimizer='rmsprop', \n",
    "#                   loss='binary_crossentropy',\n",
    "#                   metrics=['accuracy'])\n",
    "#     model.summary()\n",
    "#     return model\n",
    "\n",
    "# \n",
    "def create_model():\n",
    "    model = tf.keras.Sequential([\n",
    "        tf.keras.layers.Dense(300, input_dim=INPUT_SHAPE, activation=tf.nn.relu, name='layer_1'),\n",
    "        tf.keras.layers.BatchNormalization(),\n",
    "        tf.keras.layers.Dense(300, activation=tf.nn.relu, name='layer_2'),\n",
    "        tf.keras.layers.Dropout(0.5),\n",
    "        tf.keras.layers.Dense(150, activation=tf.nn.relu, name='layer_3'),\n",
    "        tf.keras.layers.Dropout(0.5),\n",
    "        tf.keras.layers.Dense(75, activation=tf.nn.relu, name='layer_4'),\n",
    "        tf.keras.layers.Dropout(0.5),\n",
    "        tf.keras.layers.Dense(33, activation=tf.nn.relu, name='layer_5'),\n",
    "        tf.keras.layers.Dropout(0.5),\n",
    "        tf.keras.layers.Dense(2, activation=tf.nn.softmax, name='output_layer')\n",
    "    ])\n",
    "    model.compile(optimizer='rmsprop', \n",
    "                  loss='categorical_crossentropy',\n",
    "                  metrics=['accuracy'])\n",
    "    model.summary()\n",
    "    return model\n",
    "\n",
    "\n"
   ]
  },
  {
   "cell_type": "code",
   "execution_count": 19,
   "metadata": {},
   "outputs": [],
   "source": [
    "from sklearn.metrics import roc_auc_score\n",
    "\n",
    "class Histories(tf.keras.callbacks.Callback):\n",
    "    def on_train_begin(self, logs={}):\n",
    "        self.aucs = []\n",
    "        self.losses = []\n",
    "\n",
    "    def on_train_end(self, logs={}):\n",
    "#         print('done training.')\n",
    "        return\n",
    "\n",
    "    def on_epoch_begin(self, epoch, logs={}):\n",
    "        return\n",
    "\n",
    "#     def on_epoch_end(self, epoch, logs={}):\n",
    "#         self.losses.append(logs.get('loss'))\n",
    "#         y_pred = self.model.predict(self.validation_data[0])\n",
    "#         self.aucs.append(roc_auc_score(self.validation_data[1], y_pred))\n",
    "#         return\n",
    "\n",
    "    def on_batch_begin(self, batch, logs={}):\n",
    "        return\n",
    "\n",
    "    def on_batch_end(self, batch, logs={}):\n",
    "        return\n",
    "\n",
    "    \n",
    "histories = Histories()    "
   ]
  },
  {
   "cell_type": "code",
   "execution_count": 20,
   "metadata": {},
   "outputs": [],
   "source": [
    "def get_shuffled_data(X, y):\n",
    "    random = np.random.randint(low=1, high=100, size=1)[0]\n",
    "    X_train, X_test, Y_train, Y_test = train_test_split(X, y, \n",
    "                    test_size=0.33, random_state=random, shuffle=True)\n",
    "    \n",
    "#     one_hot_labels = tf.keras.utils.to_categorical(labels, num_classes=10)\n",
    "    Y_train = tf.keras.utils.to_categorical(Y_train, num_classes=2)\n",
    "    Y_test = tf.keras.utils.to_categorical(Y_test, num_classes=2)\n",
    "    return X_train, X_test, Y_train, Y_test\n",
    "    \n",
    "\n",
    "def get_shuffled_data_binary(X, y):\n",
    "    random = np.random.randint(low=1, high=100, size=1)[0]\n",
    "    return train_test_split(X, y, test_size=0.33, random_state=random, shuffle=True)"
   ]
  },
  {
   "cell_type": "code",
   "execution_count": 21,
   "metadata": {},
   "outputs": [
    {
     "name": "stdout",
     "output_type": "stream",
     "text": [
      "WARNING:tensorflow:From /usr/lib/python3.7/site-packages/tensorflow/python/ops/resource_variable_ops.py:435: colocate_with (from tensorflow.python.framework.ops) is deprecated and will be removed in a future version.\n",
      "Instructions for updating:\n",
      "Colocations handled automatically by placer.\n",
      "WARNING:tensorflow:From /usr/lib/python3.7/site-packages/tensorflow/python/keras/layers/core.py:143: calling dropout (from tensorflow.python.ops.nn_ops) with keep_prob is deprecated and will be removed in a future version.\n",
      "Instructions for updating:\n",
      "Please use `rate` instead of `keep_prob`. Rate should be set to `rate = 1 - keep_prob`.\n",
      "_________________________________________________________________\n",
      "Layer (type)                 Output Shape              Param #   \n",
      "=================================================================\n",
      "layer_1 (Dense)              (None, 300)               90300     \n",
      "_________________________________________________________________\n",
      "batch_normalization_v1 (Batc (None, 300)               1200      \n",
      "_________________________________________________________________\n",
      "layer_2 (Dense)              (None, 300)               90300     \n",
      "_________________________________________________________________\n",
      "dropout (Dropout)            (None, 300)               0         \n",
      "_________________________________________________________________\n",
      "layer_3 (Dense)              (None, 150)               45150     \n",
      "_________________________________________________________________\n",
      "dropout_1 (Dropout)          (None, 150)               0         \n",
      "_________________________________________________________________\n",
      "layer_4 (Dense)              (None, 75)                11325     \n",
      "_________________________________________________________________\n",
      "dropout_2 (Dropout)          (None, 75)                0         \n",
      "_________________________________________________________________\n",
      "layer_5 (Dense)              (None, 33)                2508      \n",
      "_________________________________________________________________\n",
      "dropout_3 (Dropout)          (None, 33)                0         \n",
      "_________________________________________________________________\n",
      "output_layer (Dense)         (None, 2)                 68        \n",
      "=================================================================\n",
      "Total params: 240,851\n",
      "Trainable params: 240,251\n",
      "Non-trainable params: 600\n",
      "_________________________________________________________________\n",
      "WARNING:tensorflow:From /usr/lib/python3.7/site-packages/tensorflow/python/ops/math_ops.py:3066: to_int32 (from tensorflow.python.ops.math_ops) is deprecated and will be removed in a future version.\n",
      "Instructions for updating:\n",
      "Use tf.cast instead.\n",
      "**********************\n",
      "Test score: 0.7444452607488058\n",
      "Test accuracy: 0.92771083\n"
     ]
    },
    {
     "data": {
      "image/png": "[encoded data removed]",
      "text/plain": [
       "<Figure size 432x288 with 1 Axes>"
      ]
     },
     "metadata": {
      "needs_background": "light"
     },
     "output_type": "display_data"
    }
   ],
   "source": [
    "model = create_model()\n",
    "\n",
    "accuracies = []\n",
    "for i in range(4):\n",
    "    X_train, X_test, Y_train, Y_test = get_shuffled_data(x_train, y_train)\n",
    "    model.fit(X_train, Y_train,\n",
    "              batch_size=BATCH_SIZE, \n",
    "              epochs=80,\n",
    "              verbose=0,\n",
    "              shuffle=True,\n",
    "#               validation_data=(X_test, Y_test),\n",
    "              callbacks=[histories])\n",
    "    score = model.evaluate(X_test, Y_test, verbose=0)\n",
    "    accuracies.append(score[1])\n",
    "    \n",
    "print('**********************')\n",
    "print('Test score:', score[0])\n",
    "print('Test accuracy:', score[1])\n",
    "\n",
    "\n",
    "plt.plot(accuracies, label='accuracies')\n",
    "plt.title('MLP Performance')\n",
    "plt.xlabel('Epoch (80x)')\n",
    "plt.ylabel('Correct Predictions (%)')\n",
    "plt.legend()\n",
    "plt.show()"
   ]
  },
  {
   "cell_type": "code",
   "execution_count": 22,
   "metadata": {},
   "outputs": [],
   "source": [
    "predictions = model.predict_classes(x_test)"
   ]
  },
  {
   "cell_type": "code",
   "execution_count": 23,
   "metadata": {},
   "outputs": [
    {
     "name": "stdout",
     "output_type": "stream",
     "text": [
      "val #1 count = 16736\n",
      "val #0 count = 3014\n"
     ]
    }
   ],
   "source": [
    "predictions_export = pd.DataFrame()\n",
    "predictions_export['id'] = list(range(250, len(predictions) + 250))\n",
    "predictions_export['target'] = predictions\n",
    "\n",
    "for val  in predictions_export['target'].unique():\n",
    "    count = predictions_export.loc[predictions_export['target'] == val].shape[0]\n",
    "    print('val #{} count = {}'.format(val, count))"
   ]
  },
  {
   "cell_type": "code",
   "execution_count": 24,
   "metadata": {},
   "outputs": [],
   "source": [
    "predictions_export.to_csv('predictions_export.csv', index=False)"
   ]
  },
  {
   "cell_type": "code",
   "execution_count": null,
   "metadata": {},
   "outputs": [],
   "source": []
  },
  {
   "cell_type": "code",
   "execution_count": null,
   "metadata": {},
   "outputs": [],
   "source": []
  }
 ],
 "metadata": {
  "kernelspec": {
   "display_name": "Python 3",
   "language": "python",
   "name": "python3"
  },
  "language_info": {
   "codemirror_mode": {
    "name": "ipython",
    "version": 3
   },
   "file_extension": ".py",
   "mimetype": "text/x-python",
   "name": "python",
   "nbconvert_exporter": "python",
   "pygments_lexer": "ipython3",
   "version": "3.7.1"
  }
 },
 "nbformat": 4,
 "nbformat_minor": 2
}
